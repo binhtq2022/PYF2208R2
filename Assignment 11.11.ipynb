{
 "cells": [
  {
   "cell_type": "markdown",
   "id": "6822c0d9",
   "metadata": {},
   "source": [
    "https://v1study.com/python-bai-tap-bai-tap-phan-class.html\n",
    "Bài 16"
   ]
  },
  {
   "cell_type": "code",
   "execution_count": 11,
   "id": "f85a09b3",
   "metadata": {},
   "outputs": [
    {
     "name": "stdout",
     "output_type": "stream",
     "text": [
      "Turn on time 1\n",
      "Light on\n",
      "8\n",
      "------------------------------\n",
      "Turn on time 2\n",
      "Light on\n",
      "6\n",
      "------------------------------\n",
      "Turn on time 3\n",
      "Light on\n",
      "4\n",
      "------------------------------\n",
      "Turn on time 4\n",
      "Light on\n",
      "2\n",
      "------------------------------\n",
      "Turn on time 5\n",
      "Light off\n",
      "0\n",
      "------------------------------\n",
      "Turn on time 6\n",
      "Light off\n",
      "0\n",
      "------------------------------\n",
      "Turn on time 7\n",
      "Light off\n",
      "0\n",
      "------------------------------\n",
      "Turn on time 8\n",
      "Light off\n",
      "0\n",
      "------------------------------\n",
      "Turn on time 9\n",
      "Light off\n",
      "0\n",
      "------------------------------\n",
      "Turn on time 10\n",
      "Light off\n",
      "0\n",
      "------------------------------\n",
      "Remaining energy in flashlamp battery: 0\n"
     ]
    }
   ],
   "source": [
    "class Battery:\n",
    "    def __init__(self):\n",
    "        self.energy = 10\n",
    "    def set_energy(self, energy):\n",
    "        self.energy = energy\n",
    "    def get_energy(self):\n",
    "        return self.energy\n",
    "    def decrease_energy(self):\n",
    "        if(self.energy > 0):\n",
    "            self.energy -= 2\n",
    "        \n",
    "class FlashLamp:\n",
    "    def __init__(self):\n",
    "        self.status = False\n",
    "        self.battery = None\n",
    "    def set_battery(self, b):\n",
    "        self.battery = b\n",
    "    def get_battery_info(self):\n",
    "        return self.battery.get_energy()\n",
    "    \n",
    "    def turn_on(self):\n",
    "        self.status = True\n",
    "        self.battery.decrease_energy()\n",
    "        if self.get_battery_info() <= 0:\n",
    "            print(\"Light off\")\n",
    "        else:\n",
    "            print(\"Light on\")\n",
    "            \n",
    "    def turn_off(self):\n",
    "        self.status = False\n",
    "        \n",
    "class TestFlashLamp:\n",
    "    def main():\n",
    "        battery = Battery()\n",
    "        flash_lamp = FlashLamp()\n",
    "        flash_lamp.set_battery(battery)\n",
    "        \n",
    "        for i in range(10):\n",
    "            print(f\"Turn on time {i+1}\")\n",
    "            flash_lamp.turn_on()\n",
    "            flash_lamp.turn_off()\n",
    "            print(flash_lamp.get_battery_info())\n",
    "            print(\"-\"*30)\n",
    "        print(f\"Remaining energy in flashlamp battery: {flash_lamp.get_battery_info()}\")\n",
    "        \n",
    "TestFlashLamp.main()"
   ]
  },
  {
   "cell_type": "code",
   "execution_count": null,
   "id": "75ef6ff0",
   "metadata": {},
   "outputs": [],
   "source": []
  }
 ],
 "metadata": {
  "kernelspec": {
   "display_name": "Python 3 (ipykernel)",
   "language": "python",
   "name": "python3"
  },
  "language_info": {
   "codemirror_mode": {
    "name": "ipython",
    "version": 3
   },
   "file_extension": ".py",
   "mimetype": "text/x-python",
   "name": "python",
   "nbconvert_exporter": "python",
   "pygments_lexer": "ipython3",
   "version": "3.10.7"
  }
 },
 "nbformat": 4,
 "nbformat_minor": 5
}
