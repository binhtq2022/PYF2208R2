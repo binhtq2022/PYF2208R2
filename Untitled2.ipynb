{
 "cells": [
  {
   "cell_type": "code",
   "execution_count": 12,
   "id": "1d15fded",
   "metadata": {},
   "outputs": [],
   "source": [
    "from tkinter import *\n",
    "from tkinter import messagebox\n",
    "\n",
    "\n",
    "window = Tk()\n",
    "window.title(\"My Info\")\n",
    "\n",
    "\n",
    "def show_info():\n",
    "    messagebox.showinfo(\"User Infor\", f\"My name is {lastName.get()} {firstName.get()}\")\n",
    "\n",
    "myIntroduction_lbl = Label(window, text = \"My Introduction\")\n",
    "firstName_lbl = Label(window, text = \"First Name\")\n",
    "lastName_lbl = Label(window, text = \"Last Name\")\n",
    "\n",
    "firstName = Entry(window)\n",
    "lastName = Entry(window)\n",
    "\n",
    "submit_btn = Button(window, text = \"Submit\", command = show_info)\n",
    "\n",
    "myIntroduction_lbl.grid(row = 0, column = 0, columnspan = 2)\n",
    "firstName_lbl.grid(row = 1, column = 0)\n",
    "firstName.grid(row = 1, column = 1)\n",
    "\n",
    "lastName_lbl.grid(row = 2, column = 0)\n",
    "lastName.grid(row = 2, column  = 1)\n",
    "\n",
    "submit_btn.grid(row = 3, column = 0, columnspan = 2)\n",
    "\n",
    "\n",
    "\n",
    "window.mainloop()\n"
   ]
  },
  {
   "cell_type": "code",
   "execution_count": null,
   "id": "8652baf7",
   "metadata": {},
   "outputs": [],
   "source": []
  },
  {
   "cell_type": "code",
   "execution_count": null,
   "id": "c337731d",
   "metadata": {},
   "outputs": [],
   "source": []
  }
 ],
 "metadata": {
  "kernelspec": {
   "display_name": "Python 3 (ipykernel)",
   "language": "python",
   "name": "python3"
  },
  "language_info": {
   "codemirror_mode": {
    "name": "ipython",
    "version": 3
   },
   "file_extension": ".py",
   "mimetype": "text/x-python",
   "name": "python",
   "nbconvert_exporter": "python",
   "pygments_lexer": "ipython3",
   "version": "3.10.7"
  }
 },
 "nbformat": 4,
 "nbformat_minor": 5
}
