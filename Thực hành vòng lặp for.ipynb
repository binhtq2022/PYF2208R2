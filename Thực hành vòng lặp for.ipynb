{
 "cells": [
  {
   "cell_type": "code",
   "execution_count": 1,
   "id": "7c279d99",
   "metadata": {},
   "outputs": [
    {
     "name": "stdout",
     "output_type": "stream",
     "text": [
      "1\n",
      "2\n",
      "3\n",
      "4\n",
      "5\n",
      "6\n",
      "7\n",
      "8\n",
      "9\n",
      "10\n"
     ]
    }
   ],
   "source": [
    "'''\n",
    "Warm-up: In ra 10 số tự nhiên đầu tiên từ 1 đến 10\n",
    "'''\n",
    "for i in range(1,11,1):\n",
    "    print(i)"
   ]
  },
  {
   "cell_type": "code",
   "execution_count": 9,
   "id": "66918d7e",
   "metadata": {},
   "outputs": [
    {
     "name": "stdout",
     "output_type": "stream",
     "text": [
      "Input a number n = 10\n",
      "Sum 1+ ...+ 10 =  55\n"
     ]
    }
   ],
   "source": [
    "'''\n",
    "Bài 1: Nhập vào số nguyên dương n. Tính tổng các số tự nhiên từ 1 đến n.\n",
    "'''\n",
    "n = int(input(\"Input a number n = \"))\n",
    "s = 0\n",
    "for i in range (1, n+1,1):\n",
    "    s = s+i\n",
    "print(\"Sum 1+ ...+\", n , \"= \", s)"
   ]
  },
  {
   "cell_type": "code",
   "execution_count": 11,
   "id": "be255bdc",
   "metadata": {},
   "outputs": [
    {
     "name": "stdout",
     "output_type": "stream",
     "text": [
      "Input a number n = 9\n",
      "Bang cuu chuong  1\n",
      "1* 1 = 1\n",
      "1* 2 = 2\n",
      "1* 3 = 3\n",
      "1* 4 = 4\n",
      "1* 5 = 5\n",
      "1* 6 = 6\n",
      "1* 7 = 7\n",
      "1* 8 = 8\n",
      "1* 9 = 9\n",
      "Bang cuu chuong  2\n",
      "2* 1 = 2\n",
      "2* 2 = 4\n",
      "2* 3 = 6\n",
      "2* 4 = 8\n",
      "2* 5 = 10\n",
      "2* 6 = 12\n",
      "2* 7 = 14\n",
      "2* 8 = 16\n",
      "2* 9 = 18\n",
      "Bang cuu chuong  3\n",
      "3* 1 = 3\n",
      "3* 2 = 6\n",
      "3* 3 = 9\n",
      "3* 4 = 12\n",
      "3* 5 = 15\n",
      "3* 6 = 18\n",
      "3* 7 = 21\n",
      "3* 8 = 24\n",
      "3* 9 = 27\n",
      "Bang cuu chuong  4\n",
      "4* 1 = 4\n",
      "4* 2 = 8\n",
      "4* 3 = 12\n",
      "4* 4 = 16\n",
      "4* 5 = 20\n",
      "4* 6 = 24\n",
      "4* 7 = 28\n",
      "4* 8 = 32\n",
      "4* 9 = 36\n",
      "Bang cuu chuong  5\n",
      "5* 1 = 5\n",
      "5* 2 = 10\n",
      "5* 3 = 15\n",
      "5* 4 = 20\n",
      "5* 5 = 25\n",
      "5* 6 = 30\n",
      "5* 7 = 35\n",
      "5* 8 = 40\n",
      "5* 9 = 45\n",
      "Bang cuu chuong  6\n",
      "6* 1 = 6\n",
      "6* 2 = 12\n",
      "6* 3 = 18\n",
      "6* 4 = 24\n",
      "6* 5 = 30\n",
      "6* 6 = 36\n",
      "6* 7 = 42\n",
      "6* 8 = 48\n",
      "6* 9 = 54\n",
      "Bang cuu chuong  7\n",
      "7* 1 = 7\n",
      "7* 2 = 14\n",
      "7* 3 = 21\n",
      "7* 4 = 28\n",
      "7* 5 = 35\n",
      "7* 6 = 42\n",
      "7* 7 = 49\n",
      "7* 8 = 56\n",
      "7* 9 = 63\n",
      "Bang cuu chuong  8\n",
      "8* 1 = 8\n",
      "8* 2 = 16\n",
      "8* 3 = 24\n",
      "8* 4 = 32\n",
      "8* 5 = 40\n",
      "8* 6 = 48\n",
      "8* 7 = 56\n",
      "8* 8 = 64\n",
      "8* 9 = 72\n",
      "Bang cuu chuong  9\n",
      "9* 1 = 9\n",
      "9* 2 = 18\n",
      "9* 3 = 27\n",
      "9* 4 = 36\n",
      "9* 5 = 45\n",
      "9* 6 = 54\n",
      "9* 7 = 63\n",
      "9* 8 = 72\n",
      "9* 9 = 81\n"
     ]
    }
   ],
   "source": [
    "'''\n",
    "Bài 2: Nhập vào số nguyên dương n. In ra bảng cửu chương từ 1 đến 10 của n.\n",
    "'''\n",
    "n = int(input(\"Input a number n = \"))\n",
    "for i in range (1,n+1,1):\n",
    "    print(\"Bang cuu chuong \", i)\n",
    "    for j in range(1,10,1):\n",
    "        print(f\"{i}* {j} = {i*j}\")"
   ]
  },
  {
   "cell_type": "code",
   "execution_count": 38,
   "id": "681c029c",
   "metadata": {},
   "outputs": [
    {
     "name": "stdout",
     "output_type": "stream",
     "text": [
      "Input a number n = 10\n",
      "10\n",
      "10\n",
      "10\n",
      "10\n",
      "10\n",
      "10\n",
      "10\n",
      "10\n",
      "10\n",
      "10\n"
     ]
    }
   ],
   "source": [
    "'''\n",
    "Bài 3: Nhập vào số nguyên dương n. Đếm xem n có bao nhiêu chữ số.\n",
    "'''\n",
    "n = int(input(\"Input a number n = \"))\n",
    "\n",
    "for i in range(1, n+1,1):\n",
    "    if()"
   ]
  },
  {
   "cell_type": "code",
   "execution_count": 32,
   "id": "7eb58122",
   "metadata": {},
   "outputs": [
    {
     "data": {
      "text/plain": [
       "'\\nBài 4: Nhập vào số nguyên dương n. Tính tổng các chữ số của n.\\n'"
      ]
     },
     "execution_count": 32,
     "metadata": {},
     "output_type": "execute_result"
    }
   ],
   "source": [
    "'''\n",
    "Bài 4: Nhập vào số nguyên dương n. Tính tổng các chữ số của n.\n",
    "'''"
   ]
  },
  {
   "cell_type": "code",
   "execution_count": 50,
   "id": "066ca47a",
   "metadata": {},
   "outputs": [
    {
     "name": "stdout",
     "output_type": "stream",
     "text": [
      "Input a number n = 5\n",
      "1 \n",
      "1 2 \n",
      "1 2 3 \n",
      "1 2 3 4 \n",
      "1 2 3 4 5 \n"
     ]
    }
   ],
   "source": [
    "'''\n",
    "Bài 5: Nhập vào số nguyên dương n. Sử dụng cấu trúc vòng lặp lồng nhau(nested for loop) để in ra tam giác có dạng như sau:\n",
    "1\n",
    "1 2\n",
    "1 2 3\n",
    "1 2 3 4\n",
    "1 2 3 4 5\n",
    "'''\n",
    "n = int(input(\"Input a number n = \"))\n",
    "\n",
    "for i in range(1, n+1,1):\n",
    "    for j in range (1,i+1,1):\n",
    "        print(j, end = \" \")\n",
    "    print(\"\")"
   ]
  },
  {
   "cell_type": "code",
   "execution_count": 59,
   "id": "1ac5d880",
   "metadata": {},
   "outputs": [
    {
     "name": "stdout",
     "output_type": "stream",
     "text": [
      "Input a number n = 5\n",
      "5 None\n",
      "4 None\n",
      "3 None\n",
      "2 None\n",
      "1\n",
      "4 None\n",
      "3 None\n",
      "2 None\n",
      "1\n",
      "3 None\n",
      "2 None\n",
      "1\n",
      "2 None\n",
      "1\n",
      "1\n"
     ]
    }
   ],
   "source": [
    "'''\n",
    "Bài 6: Nhập vào số nguyên dương n. Sử dụng cấu trúc vòng lặp lồng nhau(nested for loop) để in ra tam giác có dạng như sau:\n",
    "5 4 3 2 1\n",
    "4 3 2 1\n",
    "3 2 1\n",
    "2 1\n",
    "1\n",
    "'''\n",
    "n = int(input(\"Input a number n = \"))\n",
    "\n",
    "for i in range(n,0,-1):\n",
    "    for j in range (i,0,-1):\n",
    "        print(j, end = \" \")\n",
    "    print(\"\")"
   ]
  },
  {
   "cell_type": "code",
   "execution_count": null,
   "id": "5a16aa66",
   "metadata": {},
   "outputs": [],
   "source": [
    "'''\n",
    "Bài 7: Nhập vào một số nguyên dương n. Tính giai thừa của n.\n",
    "Note: Giai thừa của n được tính bằng công thức: n! = n*(n - 1)*(n - 2)*...*1\n",
    "Ví dụ: 5! = 5 × 4 × 3 × 2 × 1 = 120\n",
    "'''\n"
   ]
  },
  {
   "cell_type": "code",
   "execution_count": null,
   "id": "8dfa4890",
   "metadata": {},
   "outputs": [],
   "source": [
    "'''\n",
    "Bài 8: Viết chương trình nhập vào một số nguyên dương n và in ra số đảo ngược của n.\n",
    "Ví dụ:\n",
    "Input: 76542\n",
    "Output: 24567\n",
    "'''"
   ]
  },
  {
   "cell_type": "code",
   "execution_count": 57,
   "id": "326700db",
   "metadata": {},
   "outputs": [
    {
     "name": "stdout",
     "output_type": "stream",
     "text": [
      "Input a number n = 9\n",
      "1\n",
      "22\n",
      "333\n",
      "4444\n",
      "55555\n",
      "666666\n",
      "7777777\n",
      "88888888\n",
      "999999999\n"
     ]
    }
   ],
   "source": [
    "'''\n",
    "Bài 9: Viết phần mềm nhập vào số n (từ 1 đến 9) và in ra tam giác có dạng như sau:\n",
    "1\n",
    "22\n",
    "333\n",
    "4444\n",
    "55555\n",
    "666666\n",
    "7777777\n",
    "88888888\n",
    "999999999\n",
    "'''\n",
    "n = int(input(\"Input a number n = \"))\n",
    "\n",
    "for i in range(1,n+1,1):\n",
    "    for j in range (1,i+1,1):\n",
    "        print(i, end = \"\")\n",
    "    print(\"\")"
   ]
  },
  {
   "cell_type": "code",
   "execution_count": null,
   "id": "72a87d61",
   "metadata": {},
   "outputs": [],
   "source": [
    "'''\n",
    "Bài 10: Nhập vào một câu nói (mỗi từ cách nhau một khoảng trắng, không có dấu phẩy, chấm), hãy tách từng từ trong chuỗi ra rồi in lên màn hình. Mỗi từ in kèm với độ dài cửa từ đó\n",
    "\n",
    "Ví dụ:\n",
    "\n",
    "Nhập: Xin chào\n",
    "\n",
    "In:\n",
    "\n",
    "Xin 3\n",
    "\n",
    "Chào 4\n",
    "'''"
   ]
  },
  {
   "cell_type": "code",
   "execution_count": 66,
   "id": "48421f26",
   "metadata": {},
   "outputs": [
    {
     "name": "stdout",
     "output_type": "stream",
     "text": [
      "Nhập vào một chuỗi có 2 số nguyên, mỗi số cách nhau một dấu phẩy: 2,  3\n",
      "5\n"
     ]
    }
   ],
   "source": [
    "'''\n",
    "Bài 11: Nhập vào một chuỗi có 2 số nguyên, mỗi số cách nhau một dấu phẩy, hãy tính tổng của hai số đó\n",
    "\n",
    "Ví dụ:\n",
    "\n",
    "Nhập: 2,3 In: 5\n",
    "'''\n",
    "s = input(\"Nhập vào một chuỗi có 2 số nguyên, mỗi số cách nhau một dấu phẩy: \")\n",
    "s = s.split(\",\")\n",
    "T = 0\n",
    "for i in s:\n",
    "    T = T+int(i)\n",
    "\n",
    "print(T)\n",
    "\n",
    "           "
   ]
  },
  {
   "cell_type": "code",
   "execution_count": 74,
   "id": "d878c81a",
   "metadata": {},
   "outputs": [
    {
     "name": "stdout",
     "output_type": "stream",
     "text": [
      "Nhập vào một chuỗi bất kì: 01234564567\n",
      "5\n"
     ]
    }
   ],
   "source": [
    "'''\n",
    "Bài 12: Nhập vào một chuỗi, hãy cho biết trong chuỗi đó có bao nhiêu chữ số chẵn.\n",
    "'''\n",
    "s = input(\"Nhập vào một chuỗi bất kì: \")\n",
    "even = {\"2\",\"4\",\"6\",\"8\"}      \n",
    "count = 0\n",
    "for i in s:\n",
    "        if i in even:\n",
    "            count = count +1\n",
    "print(count)\n"
   ]
  },
  {
   "cell_type": "code",
   "execution_count": 41,
   "id": "86ef2a9a",
   "metadata": {},
   "outputs": [
    {
     "name": "stdout",
     "output_type": "stream",
     "text": [
      "1000*0 + 2000*0 + 5000*40 = 200000\n",
      "1\n",
      "101\n"
     ]
    }
   ],
   "source": [
    "'''\n",
    "Bài 13: Cần có tổng 200.000đ từ 3 loại giấy bạc 1000đ, 2000đ, và 5000đ. Lập \n",
    "chương tình để tìm tất cả các phương án có thể.\n",
    "'''\n",
    "# 1000x + 2000y + 5000z = 200000\n",
    "S = 0\n",
    "C = 0\n",
    "for z in range (0,41):\n",
    "    for y in range (0, 101):\n",
    "        y_z =200000 -  5000*z -2000*y\n",
    "        C = C+1\n",
    "        if y_z >= 0:\n",
    "            S = S+1\n",
    "            x = int(y_z/1000)\n",
    "            print(f'1000*{x} + 2000*{y} + 5000*{z} = {1000*x+2000*y+5000*z}')\n",
    "print(S)\n",
    "print(C)\n",
    "            "
   ]
  },
  {
   "cell_type": "code",
   "execution_count": 75,
   "id": "1f75570f",
   "metadata": {},
   "outputs": [
    {
     "name": "stdout",
     "output_type": "stream",
     "text": [
      "Nhap vao 1 chuoi: {}[]\n",
      "True\n"
     ]
    }
   ],
   "source": [
    "'''\n",
    "Bài 14: Nhập vào một chuỗi s chỉ chứa các ký tự '(', ')', '{', '}', '[' và ']', \n",
    "xác định xem chuỗi s có hợp lệ hay không.\n",
    "\n",
    "Chuỗi đầu vào hợp lệ nếu:\n",
    "\n",
    "- Các dấu ngoặc mở phải được đóng bằng cùng một loại dấu ngoặc.\n",
    "- Dấu ngoặc mở phải được đóng theo đúng thứ tự.\n",
    "- Mọi dấu ngoặc đóng đều có một dấu ngoặc mở tương ứng cùng loại.\n",
    "\n",
    "Ví dụ 1:\n",
    "Input: s = \"()\"\n",
    "Output: True\n",
    "\n",
    "Ví dụ 2:\n",
    "Input: s = \"() [] {}\"\n",
    "Output: True\n",
    "\n",
    "Ví dụ 3:\n",
    "Input: s = \"(]\"\n",
    "Output: False\n",
    "'''\n",
    "''''''\n",
    "content = input(\"Nhap vao 1 chuoi: \")\n",
    "output_1 = False\n",
    "output_2 = False\n",
    "output_3 = False\n",
    "length_of_content = len(content)\n",
    "if(content.find(\"(\") > -1):\n",
    "    for i in range(length_of_content):\n",
    "        if(content[i] == '('):\n",
    "            print(content[i])\n",
    "            for j in range(i+1, length_of_content):\n",
    "                if(content[j] == ')'):\n",
    "                    output_1 = True\n",
    "                    break\n",
    "else:\n",
    "    output_1 = True\n",
    "    \n",
    "if(content.find(\"[\") > - 1):\n",
    "    for i in range(length_of_content):\n",
    "        if(content[i] == '['):\n",
    "            for j in range(i+1, length_of_content):\n",
    "                if(content[j] == ']'):\n",
    "                    output_2 = True\n",
    "                    break\n",
    "else:\n",
    "    output_2 = True\n",
    "    \n",
    "if(content.find(\"{\") > -1):       \n",
    "    for i in range(length_of_content):\n",
    "        if(content[i] == '{'):\n",
    "            for j in range(i+1, length_of_content):\n",
    "                if(content[j] == '}'):\n",
    "                    output_3 = True\n",
    "                    break\n",
    "else:\n",
    "    output_3 = True\n",
    "                \n",
    "print(output_1 and output_2 and output_3)\n",
    "\n",
    "        "
   ]
  },
  {
   "cell_type": "code",
   "execution_count": 72,
   "id": "1cc7ea23",
   "metadata": {},
   "outputs": [
    {
     "data": {
      "text/plain": [
       "'\\nBài 15: Roman to Integer\\nChữ số La Mã được thể hiện bằng bảy ký hiệu khác nhau: I, V, X, L, C, D và M.\\n\\nSymbol       Value\\nI             1\\nV             5\\nX             10\\nL             50\\nC             100\\nD             500\\nM             1000\\n\\nVí dụ: 2 được viết là II bằng số La Mã, chỉ là hai cái được cộng lại với nhau. \\n12 được viết là XII, đơn giản là X + II. Con số 27 được viết là XXVII, là XX + V + II.\\n\\nChữ số La mã thường được viết từ lớn nhất đến nhỏ nhất từ trái sang phải. \\nTuy nhiên, chữ số cho bốn không phải là IIII. Thay vào đó, số bốn được viết là IV. \\nBởi vì cái đứng trước năm, chúng ta trừ nó ra làm bốn. Nguyên tắc tương tự cũng áp dụng cho số chín, \\nđược viết là IX. Có sáu trường hợp phép trừ được sử dụng:\\n\\nI có thể được đặt trước V (5) và X (10) để tạo thành 4 và 9.\\nX có thể được đặt trước L (50) và C (100) để tạo ra 40 và 90.\\nC có thể được đặt trước D (500) và M (1000) để tạo thành 400 và 900.\\nNhập vào một chuỗi đại diện cho một số La Mã, hãy chuyển nó thành một số nguyên.\\n\\nVí dụ 1:\\nInput: s = \"III\"\\nOutput: 3\\nExplanation: III = 3.\\n\\nVí dụ 2:\\nInput: s = \"LVIII\"\\nOutput: 58\\nExplanation: L = 50, V= 5, III = 3.\\n\\nVí dụ 3:\\nInput: s = \"MCMXCIV\"\\nOutput: 1994\\nExplanation: M = 1000, CM = 900, XC = 90 and IV = 4.\\n'"
      ]
     },
     "execution_count": 72,
     "metadata": {},
     "output_type": "execute_result"
    }
   ],
   "source": [
    "'''\n",
    "Bài 15: Roman to Integer\n",
    "Chữ số La Mã được thể hiện bằng bảy ký hiệu khác nhau: I, V, X, L, C, D và M.\n",
    "\n",
    "Symbol       Value\n",
    "I             1\n",
    "V             5\n",
    "X             10\n",
    "L             50\n",
    "C             100\n",
    "D             500\n",
    "M             1000\n",
    "\n",
    "Ví dụ: 2 được viết là II bằng số La Mã, chỉ là hai cái được cộng lại với nhau. \n",
    "12 được viết là XII, đơn giản là X + II. Con số 27 được viết là XXVII, là XX + V + II.\n",
    "\n",
    "Chữ số La mã thường được viết từ lớn nhất đến nhỏ nhất từ trái sang phải. \n",
    "Tuy nhiên, chữ số cho bốn không phải là IIII. Thay vào đó, số bốn được viết là IV. \n",
    "Bởi vì cái đứng trước năm, chúng ta trừ nó ra làm bốn. Nguyên tắc tương tự cũng áp dụng cho số chín, \n",
    "được viết là IX. Có sáu trường hợp phép trừ được sử dụng:\n",
    "\n",
    "I có thể được đặt trước V (5) và X (10) để tạo thành 4 và 9.\n",
    "X có thể được đặt trước L (50) và C (100) để tạo ra 40 và 90.\n",
    "C có thể được đặt trước D (500) và M (1000) để tạo thành 400 và 900.\n",
    "Nhập vào một chuỗi đại diện cho một số La Mã, hãy chuyển nó thành một số nguyên.\n",
    "\n",
    "Ví dụ 1:\n",
    "Input: s = \"III\"\n",
    "Output: 3\n",
    "Explanation: III = 3.\n",
    "\n",
    "Ví dụ 2:\n",
    "Input: s = \"LVIII\"\n",
    "Output: 58\n",
    "Explanation: L = 50, V= 5, III = 3.\n",
    "\n",
    "Ví dụ 3:\n",
    "Input: s = \"MCMXCIV\"\n",
    "Output: 1994\n",
    "Explanation: M = 1000, CM = 900, XC = 90 and IV = 4.\n",
    "'''\n",
    "\n",
    "\n",
    "s = input(\"Nhap vao chuoi so la ma: \")\n",
    "for char in s:\n",
    "    if"
   ]
  },
  {
   "cell_type": "code",
   "execution_count": null,
   "id": "bfe2e17f",
   "metadata": {},
   "outputs": [],
   "source": [
    "'''\n",
    "Bonus: Vẽ xe lửa\n",
    "What is the size of your train? 1\n",
    " ______________________>__\n",
    "|]||[]_[]_[]|||[]_[]_[]||[|\n",
    "\\==o-o======o-o======o-o==/\n",
    "\n",
    "What is the size of your train? 2\n",
    " _________________________   ______________________>__\n",
    "|]||[]_[]_[]|||[]_[]_[]||[| |]||[]_[]_[]|||[]_[]_[]||[|\n",
    "\\==o-o======o-o======o-o==/_\\==o-o======o-o======o-o==/\n",
    "'''"
   ]
  }
 ],
 "metadata": {
  "kernelspec": {
   "display_name": "Python 3 (ipykernel)",
   "language": "python",
   "name": "python3"
  },
  "language_info": {
   "codemirror_mode": {
    "name": "ipython",
    "version": 3
   },
   "file_extension": ".py",
   "mimetype": "text/x-python",
   "name": "python",
   "nbconvert_exporter": "python",
   "pygments_lexer": "ipython3",
   "version": "3.10.7"
  }
 },
 "nbformat": 4,
 "nbformat_minor": 5
}
