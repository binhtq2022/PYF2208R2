{
 "cells": [
  {
   "cell_type": "code",
   "execution_count": 1,
   "id": "143a3002",
   "metadata": {},
   "outputs": [],
   "source": [
    "import turtle\n",
    "\n",
    "\n",
    "pen = turtle.Turtle()\n",
    "pen.pensize(5) \n",
    "\n",
    "pen.pencolor(\"Green\") \n",
    "\n",
    "facesize = 200\n",
    "smile_size = 100\n",
    "eye_size = 17.5\n",
    "\n",
    "pen.penup()\n",
    "pen.goto(0, -200)\n",
    "pen.pendown()\n",
    "pen.circle(facesize)\n",
    "\n",
    "\n",
    "#for nose\n",
    "pen.penup ()\n",
    "pen.goto(0,50)\n",
    "pen.pendown()\n",
    "pen.circle(-70, steps=3)\n",
    "\n",
    "# for smile\n",
    "pen.penup()\n",
    "pen.goto(-100, -70)\n",
    "pen.pendown()\n",
    "pen.right(90)\n",
    "pen.circle(smile_size,180)\n",
    "\n",
    "pen.fillcolor (\"red\")\n",
    "pen.penup()\n",
    "pen.goto(-100,50)\n",
    "pen.pendown()\n",
    " \n",
    "\n",
    "\n",
    " \n",
    "pen.begin_fill()\n",
    "pen.circle(eye_size)\n",
    "pen.end_fill()\n",
    "pen.penup()\n",
    " \n",
    "pen.goto(125,50)\n",
    "pen.pendown()\n",
    "pen.begin_fill()\n",
    "pen.circle(eye_size)\n",
    "pen.end_fill()\n",
    "\n",
    "turtle.done()\n",
    "\n",
    "\n"
   ]
  },
  {
   "cell_type": "code",
   "execution_count": null,
   "id": "3bebb1f7",
   "metadata": {},
   "outputs": [],
   "source": []
  }
 ],
 "metadata": {
  "kernelspec": {
   "display_name": "Python 3 (ipykernel)",
   "language": "python",
   "name": "python3"
  },
  "language_info": {
   "codemirror_mode": {
    "name": "ipython",
    "version": 3
   },
   "file_extension": ".py",
   "mimetype": "text/x-python",
   "name": "python",
   "nbconvert_exporter": "python",
   "pygments_lexer": "ipython3",
   "version": "3.10.6"
  }
 },
 "nbformat": 4,
 "nbformat_minor": 5
}
