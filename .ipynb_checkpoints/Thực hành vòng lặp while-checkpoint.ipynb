{
 "cells": [
  {
   "cell_type": "code",
   "execution_count": null,
   "id": "272a3a95",
   "metadata": {},
   "outputs": [],
   "source": [
    "'''\n",
    "Khởi động: Viết chương trình in ra tất cả các số chia hết cho cả 5 và 7 trong khoảng từ 1500 đến 2700\n",
    "'''"
   ]
  },
  {
   "cell_type": "code",
   "execution_count": null,
   "id": "18dbe371",
   "metadata": {},
   "outputs": [],
   "source": []
  },
  {
   "cell_type": "code",
   "execution_count": 2,
   "id": "87f74c6c",
   "metadata": {},
   "outputs": [
    {
     "name": "stdout",
     "output_type": "stream",
     "text": [
      "Nhap chieu cao h = 5\n",
      "*****\n",
      "****\n",
      "***\n",
      "**\n",
      "*\n"
     ]
    }
   ],
   "source": [
    "'''\n",
    "Bài 1: Viết chương trình nhập vào chiều cao tam giác vuông và in ra tam giác có hình dạng như sau:\n",
    "*****\n",
    "****\n",
    "***\n",
    "** \n",
    "*\n",
    "'''\n",
    "\n",
    "h = int(input(\"Nhap chieu cao h = \"))\n",
    "\n",
    "while (h > 0):\n",
    "    print(\"*\"*h)\n",
    "    h = h-1\n",
    "    \n",
    "    \n"
   ]
  },
  {
   "cell_type": "code",
   "execution_count": 7,
   "id": "ea4c14a8",
   "metadata": {},
   "outputs": [
    {
     "name": "stdout",
     "output_type": "stream",
     "text": [
      "Nhap chieu cao h = 6\n",
      "* * * * * *\n",
      "* * * * *\n",
      "* * * *\n",
      "* * *\n",
      "* *\n",
      "*\n"
     ]
    }
   ],
   "source": [
    "'''\n",
    "Bài 2: Viết chương trình nhập vào chiều cao tam giác vuông và in ra tam giác có hình dạng như sau:\n",
    "* * * * * *\n",
    "* * * * *\n",
    "* * * *\n",
    "* * *\n",
    "* *\n",
    "*\n",
    "'''\n",
    "h = int(input(\"Nhap chieu cao h = \"))\n",
    "\n",
    "while (h > 0):\n",
    "    print(\"* \"*(h-1) +\"*\")\n",
    "    h = h-1"
   ]
  },
  {
   "cell_type": "code",
   "execution_count": 50,
   "id": "bd17e085",
   "metadata": {},
   "outputs": [
    {
     "name": "stdout",
     "output_type": "stream",
     "text": [
      "Nhap chieu cao h = 5\n",
      "* - * - *\n",
      "* - * -\n",
      "* - *\n",
      "* -\n",
      "*\n"
     ]
    }
   ],
   "source": [
    "'''\n",
    "Bài 3: Viết chương trình nhập vào chiều cao tam giác vuông và in ra tam giác có hình dạng như sau:\n",
    "* - * - *\n",
    "* - * -\n",
    "* - *\n",
    "* -\n",
    "*\n",
    "'''\n",
    "h = int(input(\"Nhap chieu cao h = \"))\n",
    "k  = 1\n",
    "while (h >0):\n",
    "    while(k < h):\n",
    "        print(\"* \", end= \"\") if (k%2 == 1) else print(\"- \", end = \"\")\n",
    "        k = k+1\n",
    "        \n",
    "    print(\"*\") if (h%2 == 1) else print(\"-\")\n",
    "    k = 1\n",
    "    h = h-1"
   ]
  },
  {
   "cell_type": "code",
   "execution_count": 44,
   "id": "105b66bc",
   "metadata": {},
   "outputs": [
    {
     "data": {
      "text/plain": [
       "'\\nBài 4: Viết chương trình nhập vào một số nguyên n và in ra các số từ 1 đến n với các trường hợp ngoại lệ như sau:\\n- Nếu số đó chia hết cho 3 thì in \"py\"\\n- Nếu số đó chia hết cho 7 thì in \"thon\"\\n- Nếu số đó chia hết cho cả 3 và 4 thì in \"python\"\\n\\nVí dụ: n = 25\\n1\\n2\\npy\\n4\\n5\\npy\\nthon\\n8\\npy\\n10\\n11\\npy\\n13\\nthon\\npy\\n16\\n17\\npy\\n19\\n20\\npython\\n22\\n23\\npy\\n25\\n'"
      ]
     },
     "execution_count": 44,
     "metadata": {},
     "output_type": "execute_result"
    }
   ],
   "source": [
    "'''\n",
    "Bài 4: Viết chương trình nhập vào một số nguyên n và in ra các số từ 1 đến n với các trường hợp ngoại lệ như sau:\n",
    "- Nếu số đó chia hết cho 3 thì in \"py\"\n",
    "- Nếu số đó chia hết cho 7 thì in \"thon\"\n",
    "- Nếu số đó chia hết cho cả 3 và 4 thì in \"python\"\n",
    "\n",
    "Ví dụ: n = 25\n",
    "1\n",
    "2\n",
    "py\n",
    "4\n",
    "5\n",
    "py\n",
    "thon\n",
    "8\n",
    "py\n",
    "10\n",
    "11\n",
    "py\n",
    "13\n",
    "thon\n",
    "py\n",
    "16\n",
    "17\n",
    "py\n",
    "19\n",
    "20\n",
    "python\n",
    "22\n",
    "23\n",
    "py\n",
    "25\n",
    "'''"
   ]
  },
  {
   "cell_type": "code",
   "execution_count": 97,
   "id": "720b88ca",
   "metadata": {},
   "outputs": [
    {
     "name": "stdout",
     "output_type": "stream",
     "text": [
      "Nhap vao so nguyen N = 8\n",
      "8 không là số nguyên tố\n"
     ]
    }
   ],
   "source": [
    "'''\n",
    "Bài 5: Viết chương trình nhập vào một số và kiểm tra xem số đó có phải là số nguyên tố hay không\n",
    "Note: Số nguyên tố là số chỉ chia hết cho 1 và chính nó\n",
    "'''\n",
    "\n",
    "n = int(input(\"Nhap vao so nguyen N = \"))\n",
    "isSNT = True\n",
    "if(n < 2):\n",
    "    print(f\"{n} không là số nguyên tố\")\n",
    "else:\n",
    "    k = 2\n",
    "    while(k < (n -1)):\n",
    "        if(n%k == 0):\n",
    "            print(f\"{n} không là số nguyên tố\")\n",
    "            isSNT = False;\n",
    "            break\n",
    "        k = k+1\n",
    "    if(isSNT):\n",
    "        print(f\"{n} là số nguyên tố\")"
   ]
  },
  {
   "cell_type": "code",
   "execution_count": 133,
   "id": "ac1f1979",
   "metadata": {},
   "outputs": [
    {
     "name": "stdout",
     "output_type": "stream",
     "text": [
      "Mời lựa chọn(1 - búa, 2 - kéo, 3 - bao): 1\n",
      "\n",
      "Máy tính chọn: 1\n",
      "Người chơi thua.\n",
      "\n",
      "Mời lựa chọn(1 - búa, 2 - kéo, 3 - bao): 1\n",
      "Máy tính chọn: 3\n",
      "Người chơi thua.\n",
      "\n",
      "Mời lựa chọn(1 - búa, 2 - kéo, 3 - bao): 2\n",
      "Máy tính chọn: 3\n",
      "Người chơi thắng.\n"
     ]
    }
   ],
   "source": [
    "'''\n",
    "Bài 6: Viết chương trình mô phỏng trò chơi kéo búa bao theo luật chơi như sau:\n",
    "Quy ước: 1 - búa, 2 - kéo, 3 - bao\n",
    "Khi trò chơi bắt đầu, yêu cầu người chơi nhập 1 số từ bàn phím đại diện cho kéo, búa, bao\n",
    "Chương trình tự random ra một lựa chọn từ 1 đến 3.\n",
    "Nếu người chơi thua thì tiếp tục chơi cho đến khi thắng thì kết thúc chương trình.\n",
    "Ví dụ:\n",
    "\n",
    "Mời lựa chọn(1 - búa, 2 - kéo, 3 - bao): 1\n",
    "Máy tính chọn: 3\n",
    "Người chơi thua.\n",
    "\n",
    "Mời lựa chọn(1 - búa, 2 - kéo, 3 - bao): 2\n",
    "Máy tính chọn: 1\n",
    "Người chơi thua.\n",
    "\n",
    "Mời lựa chọn(1 - búa, 2 - kéo, 3 - bao): 1\n",
    "Máy tính chọn: 2\n",
    "Người chơi thắng.\n",
    "'''\n",
    "import random\n",
    "\n",
    "player_choose = int(input(\"Mời lựa chọn(1 - búa, 2 - kéo, 3 - bao): \"))\n",
    "\n",
    "while(player_choose < 0 or player_choose > 3):\n",
    "    player_choose = int(input(\"Mời lựa chọn(1 - búa, 2 - kéo, 3 - bao): \"))\n",
    "\n",
    "print(\"\")\n",
    "com = random.randint(1,3)\n",
    "\n",
    "def win(p,c):\n",
    "    if p == 1:\n",
    "        if c == 2:\n",
    "            return False\n",
    "        else:\n",
    "            return True\n",
    "    elif p == 2:\n",
    "        if c == 3:\n",
    "            return False\n",
    "        else:\n",
    "            return True\n",
    "    elif p == 3:\n",
    "        if c == 1:\n",
    "            return False\n",
    "        else:\n",
    "            return True\n",
    "\n",
    "while(win(player_choose, com)):  \n",
    "    print(f\"Máy tính chọn: {com}\")\n",
    "    print(\"Người chơi thua.\")\n",
    "    print(\"\")\n",
    "    player_choose = int(input(\"Mời lựa chọn(1 - búa, 2 - kéo, 3 - bao): \"))\n",
    "    while(player_choose < 0 or player_choose > 3):\n",
    "        player_choose = int(input(\"Mời lựa chọn(1 - búa, 2 - kéo, 3 - bao): \"))\n",
    "    com = random.randint(1,3)\n",
    "    \n",
    "print(f\"Máy tính chọn: {com}\")\n",
    "print(\"Người chơi thắng.\")"
   ]
  },
  {
   "cell_type": "markdown",
   "id": "0b138cf6",
   "metadata": {},
   "source": [
    "# "
   ]
  },
  {
   "cell_type": "code",
   "execution_count": null,
   "id": "358ee491",
   "metadata": {},
   "outputs": [],
   "source": []
  }
 ],
 "metadata": {
  "kernelspec": {
   "display_name": "Python 3 (ipykernel)",
   "language": "python",
   "name": "python3"
  },
  "language_info": {
   "codemirror_mode": {
    "name": "ipython",
    "version": 3
   },
   "file_extension": ".py",
   "mimetype": "text/x-python",
   "name": "python",
   "nbconvert_exporter": "python",
   "pygments_lexer": "ipython3",
   "version": "3.10.7"
  }
 },
 "nbformat": 4,
 "nbformat_minor": 5
}
