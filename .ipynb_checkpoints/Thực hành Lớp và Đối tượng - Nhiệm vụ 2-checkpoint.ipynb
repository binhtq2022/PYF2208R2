{
 "cells": [
  {
   "cell_type": "code",
   "execution_count": null,
   "id": "1b7705b3",
   "metadata": {},
   "outputs": [],
   "source": [
    "\"\"\"\n",
    "Viết class NhanVien gồm các thuộc tính:\n",
    "+ Tên\n",
    "+ Tuổi\n",
    "+ Địa chỉ\n",
    "+ Tiền lương\n",
    "+ Tổng số giờ làm\n",
    "\n",
    "Và các phương thức:\n",
    "- Phương thức tạo\n",
    "- input_info() : Nhập các thông tin cho nhân viên từ bàn phím\n",
    "- print_info() : In ra tất cả các thông tin của nhân viên\n",
    "- tinh_thuong(): Tính toán và trả về số tiền thưởng của nhân viên theo công thức sau:\n",
    "Nếu tổng số giờ làm của nhân viên >=200 thì thưởng = lương * 20%\n",
    "Nếu tổng số giờ làm của nhân viên <200 và >=100 thì thưởng = lương * 10%\n",
    "Nếu tổng số giờ làm của nhân viên <100 thì thưởng = 0\n",
    "\"\"\""
   ]
  },
  {
   "cell_type": "code",
   "execution_count": 13,
   "id": "3cf0f41d",
   "metadata": {},
   "outputs": [
    {
     "name": "stdout",
     "output_type": "stream",
     "text": [
      "Input employee's name: Binh\n",
      "Input employee's old: 18\n",
      "Input employee's address: BD\n",
      "Input employee's salary: 100000000\n",
      "Input employee's total working hour: 200\n",
      "Full name: Binh\n",
      "Age: 18\n",
      "Address: BD\n",
      "Salary: 100000000\n"
     ]
    },
    {
     "ename": "AttributeError",
     "evalue": "'Employee' object has no attribute 'total_woking_hour'",
     "output_type": "error",
     "traceback": [
      "\u001b[1;31m---------------------------------------------------------------------------\u001b[0m",
      "\u001b[1;31mAttributeError\u001b[0m                            Traceback (most recent call last)",
      "Cell \u001b[1;32mIn [13], line 29\u001b[0m\n\u001b[0;32m     27\u001b[0m staff_a \u001b[38;5;241m=\u001b[39m Employee()\n\u001b[0;32m     28\u001b[0m staff_a\u001b[38;5;241m.\u001b[39minput_info()\n\u001b[1;32m---> 29\u001b[0m staff_a\u001b[38;5;241m.\u001b[39mprint_info()\n",
      "Cell \u001b[1;32mIn [13], line 26\u001b[0m, in \u001b[0;36mEmployee.print_info\u001b[1;34m(self)\u001b[0m\n\u001b[0;32m     24\u001b[0m \u001b[38;5;28mprint\u001b[39m(\u001b[38;5;124mf\u001b[39m\u001b[38;5;124m\"\u001b[39m\u001b[38;5;124mAddress: \u001b[39m\u001b[38;5;132;01m{\u001b[39;00m\u001b[38;5;28mself\u001b[39m\u001b[38;5;241m.\u001b[39maddress\u001b[38;5;132;01m}\u001b[39;00m\u001b[38;5;124m\"\u001b[39m)\n\u001b[0;32m     25\u001b[0m \u001b[38;5;28mprint\u001b[39m(\u001b[38;5;124mf\u001b[39m\u001b[38;5;124m\"\u001b[39m\u001b[38;5;124mSalary: \u001b[39m\u001b[38;5;132;01m{\u001b[39;00m\u001b[38;5;28mself\u001b[39m\u001b[38;5;241m.\u001b[39msalary\u001b[38;5;132;01m}\u001b[39;00m\u001b[38;5;124m\"\u001b[39m)\n\u001b[1;32m---> 26\u001b[0m \u001b[38;5;28mprint\u001b[39m(\u001b[38;5;124mf\u001b[39m\u001b[38;5;124m\"\u001b[39m\u001b[38;5;124mBonus: \u001b[39m\u001b[38;5;132;01m{\u001b[39;00m\u001b[38;5;28mself\u001b[39m\u001b[38;5;241m.\u001b[39mbonus()\u001b[38;5;132;01m}\u001b[39;00m\u001b[38;5;124m VND\u001b[39m\u001b[38;5;124m\"\u001b[39m)\n",
      "Cell \u001b[1;32mIn [13], line 16\u001b[0m, in \u001b[0;36mEmployee.bonus\u001b[1;34m(self)\u001b[0m\n\u001b[0;32m     14\u001b[0m \u001b[38;5;28;01mdef\u001b[39;00m \u001b[38;5;21mbonus\u001b[39m(\u001b[38;5;28mself\u001b[39m):\n\u001b[0;32m     15\u001b[0m     bonus \u001b[38;5;241m=\u001b[39m \u001b[38;5;241m0\u001b[39m\n\u001b[1;32m---> 16\u001b[0m     \u001b[38;5;28;01mif\u001b[39;00m \u001b[38;5;28;43mself\u001b[39;49m\u001b[38;5;241;43m.\u001b[39;49m\u001b[43mtotal_woking_hour\u001b[49m \u001b[38;5;241m>\u001b[39m\u001b[38;5;241m=\u001b[39m \u001b[38;5;241m200\u001b[39m:\n\u001b[0;32m     17\u001b[0m         bonus \u001b[38;5;241m=\u001b[39m \u001b[38;5;28mself\u001b[39m\u001b[38;5;241m.\u001b[39msalary \u001b[38;5;241m*\u001b[39m \u001b[38;5;241m0.2\u001b[39m\n\u001b[0;32m     18\u001b[0m     \u001b[38;5;28;01melif\u001b[39;00m \u001b[38;5;28mself\u001b[39m\u001b[38;5;241m.\u001b[39mtotal_woking_hour \u001b[38;5;241m>\u001b[39m\u001b[38;5;241m=\u001b[39m \u001b[38;5;241m100\u001b[39m:\n",
      "\u001b[1;31mAttributeError\u001b[0m: 'Employee' object has no attribute 'total_woking_hour'"
     ]
    }
   ],
   "source": [
    "class Employee :\n",
    "    def __init__(self):\n",
    "        self.name = \"\"\n",
    "        self.old = \"\"\n",
    "        self.address = \"\"\n",
    "        self.salary = \"\"\n",
    "        self.total_working_hour = \"\"\n",
    "    def input_info(self):\n",
    "        self.name = input(\"Input employee's name: \")\n",
    "        self.old = int(input(\"Input employee's old: \"))\n",
    "        self.address = input(\"Input employee's address: \")\n",
    "        self.salary = int(input(\"Input employee's salary: \"))\n",
    "        self.total_working_hour = int(input(\"Input employee's total working hour: \"))\n",
    "    def bonus(self):\n",
    "        bonus = 0\n",
    "        if self.total_woking_hour >= 200:\n",
    "            bonus = self.salary * 0.2\n",
    "        elif self.total_working_hour >= 100:\n",
    "            bonus = self.salary * 0.1\n",
    "        return bonus\n",
    "    def print_info(self):\n",
    "        print(f\"Full name: {self.name}\")\n",
    "        print(f\"Age: {self.old}\")\n",
    "        print(f\"Address: {self.address}\")\n",
    "        print(f\"Salary: {self.salary}\")\n",
    "        print(f\"Bonus: {self.bonus()} VND\")\n",
    "staff_a = Employee()\n",
    "staff_a.input_info()\n",
    "staff_a.print_info()"
   ]
  },
  {
   "cell_type": "code",
   "execution_count": null,
   "id": "065d05c6",
   "metadata": {},
   "outputs": [],
   "source": []
  }
 ],
 "metadata": {
  "kernelspec": {
   "display_name": "Python 3 (ipykernel)",
   "language": "python",
   "name": "python3"
  },
  "language_info": {
   "codemirror_mode": {
    "name": "ipython",
    "version": 3
   },
   "file_extension": ".py",
   "mimetype": "text/x-python",
   "name": "python",
   "nbconvert_exporter": "python",
   "pygments_lexer": "ipython3",
   "version": "3.10.7"
  }
 },
 "nbformat": 4,
 "nbformat_minor": 5
}
