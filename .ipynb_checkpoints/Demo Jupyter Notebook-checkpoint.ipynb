{
 "cells": [
  {
   "cell_type": "code",
   "execution_count": 3,
   "id": "cb41ef72",
   "metadata": {},
   "outputs": [
    {
     "name": "stdout",
     "output_type": "stream",
     "text": [
      "Hello world!\n"
     ]
    }
   ],
   "source": [
    "print(\"Hello world!\")"
   ]
  },
  {
   "cell_type": "code",
   "execution_count": 4,
   "id": "665bd95b",
   "metadata": {},
   "outputs": [
    {
     "name": "stdout",
     "output_type": "stream",
     "text": [
      "My name is Binh\n"
     ]
    }
   ],
   "source": [
    "print(\"My name is Binh\")"
   ]
  },
  {
   "cell_type": "code",
   "execution_count": 5,
   "id": "3e52d89b",
   "metadata": {
    "scrolled": true
   },
   "outputs": [
    {
     "name": "stdout",
     "output_type": "stream",
     "text": [
      "I studying Python Fundamental..\n"
     ]
    }
   ],
   "source": [
    "print(\"I studying Python Fundamental..\")"
   ]
  },
  {
   "cell_type": "code",
   "execution_count": 7,
   "id": "effcf0f0",
   "metadata": {},
   "outputs": [
    {
     "name": "stdout",
     "output_type": "stream",
     "text": [
      "Hello World \n",
      "My name is Binh \n",
      "I studying Python Fundamental\n"
     ]
    }
   ],
   "source": [
    "print(\"Hello World \\nMy name is Binh \\nI studying Python Fundamental\")"
   ]
  }
 ],
 "metadata": {
  "kernelspec": {
   "display_name": "Python 3 (ipykernel)",
   "language": "python",
   "name": "python3"
  },
  "language_info": {
   "codemirror_mode": {
    "name": "ipython",
    "version": 3
   },
   "file_extension": ".py",
   "mimetype": "text/x-python",
   "name": "python",
   "nbconvert_exporter": "python",
   "pygments_lexer": "ipython3",
   "version": "3.10.6"
  }
 },
 "nbformat": 4,
 "nbformat_minor": 5
}
