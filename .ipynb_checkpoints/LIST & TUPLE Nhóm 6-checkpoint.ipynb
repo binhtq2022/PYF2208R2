{
 "cells": [
  {
   "cell_type": "markdown",
   "id": "e403e285",
   "metadata": {},
   "source": [
    "# Kiểu dữ liệu LIST và TUPLE"
   ]
  },
  {
   "cell_type": "markdown",
   "id": "057f575c",
   "metadata": {},
   "source": [
    "List chứa một tập các giá trị, được phân tách nhau bằng dấu phẩy, List có thể chứa bất kỳ kiểu dữ liệu nào.\n",
    "Một List được tạo bởi cặp dấu []\n",
    "Các nội dung cần nắm:\n",
    "1. Khởi tạo list\n",
    "2. Kiểm tra số phần tử của list\n",
    "3. Truy xuất phần tử của list\n",
    "4. Thay đổi giá trị của list\n",
    "5. Thêm/bớt phần tử của List\n",
    "6. Làm rỗng list\n",
    "7. Sắp xếp list\n",
    "8. Copy list"
   ]
  },
  {
   "cell_type": "code",
   "execution_count": null,
   "id": "506f6091",
   "metadata": {},
   "outputs": [],
   "source": []
  },
  {
   "cell_type": "code",
   "execution_count": 30,
   "id": "5fde99a9",
   "metadata": {},
   "outputs": [
    {
     "name": "stdout",
     "output_type": "stream",
     "text": [
      "Type of list_1:  <class 'list'>\n",
      "Type of list_2:  <class 'list'>\n",
      "[1, 2, 3, 4, 5]\n",
      "['a', 'b', 'c', 'd']\n"
     ]
    }
   ],
   "source": [
    "#1. Khởi tạo list\n",
    "list_1 = [1,2,3,4,5]\n",
    "list_2 = ['a','b','c','d']\n",
    "\n",
    "print('Type of list_1: ',type(list_1))\n",
    "print('Type of list_2: ',type(list_2))\n",
    "print(list_1)\n",
    "print(list_2)"
   ]
  },
  {
   "cell_type": "markdown",
   "id": "fa53c0bf",
   "metadata": {},
   "source": [
    "Các thao tác cơ bản với List:"
   ]
  },
  {
   "cell_type": "code",
   "execution_count": 18,
   "id": "02cd609c",
   "metadata": {},
   "outputs": [
    {
     "name": "stdout",
     "output_type": "stream",
     "text": [
      "List 1: 5\n",
      "List 2: 4\n"
     ]
    }
   ],
   "source": [
    "#2. Kiểm tra số phần tử trong list: len()\n",
    "length_of_list_1 = len(list_1)\n",
    "length_of_list_2 = len(list_2)\n",
    "print('List 1:',length_of_list_1)\n",
    "print('List 2:',length_of_list_2)"
   ]
  },
  {
   "cell_type": "code",
   "execution_count": 36,
   "id": "cd81bf1c",
   "metadata": {},
   "outputs": [
    {
     "name": "stdout",
     "output_type": "stream",
     "text": [
      "Phần tử thứ 1 trong list 1:  1\n",
      "Phần tử thứ 1 trong list 2:  a\n",
      "Phần tử cuối cùng list_1:  5\n",
      "Phần tử thứ 2 đến phần tử thứ 3 của list_1 =  [2, 3]\n",
      "Các phần tử từ phần tử thứ 3 đến cuối list_1 [3, 4, 5]\n"
     ]
    }
   ],
   "source": [
    "x"
   ]
  },
  {
   "cell_type": "code",
   "execution_count": 42,
   "id": "3942bf3a",
   "metadata": {},
   "outputs": [
    {
     "name": "stdout",
     "output_type": "stream",
     "text": [
      "List trước khi thay đổi =  [1, 2, 3, 4, 5]\n",
      "List sau khi thay đổi =  [1, '2_c', 3, 4, 5]\n",
      "List sau khi thay đổi nhiều phần tử =  [1, '2_c', '3_c', 4, 5]\n"
     ]
    }
   ],
   "source": [
    "#4. Thay đổi giá trị của các phần tử trong list:\n",
    "list_1 = [1,2,3,4,5]\n",
    "print(\"List trước khi thay đổi = \", list_1)\n",
    "\n",
    "# Thay đổi giá trị của phần tử thứ 2\n",
    "list_1[1] = \"2_c\"\n",
    "print(\"List sau khi thay đổi = \", list_1)\n",
    "\n",
    "# Thay đổi một lúc nhiều giá trị của list\n",
    "# Thay đổi giá trị của phần tử thứ 2 đến phần tử thứ 3\n",
    "list_1[1:3] = ['2_c','3_c']\n",
    "print(\"List sau khi thay đổi nhiều phần tử = \", list_1)\n"
   ]
  },
  {
   "cell_type": "code",
   "execution_count": 51,
   "id": "95560332",
   "metadata": {},
   "outputs": [
    {
     "name": "stdout",
     "output_type": "stream",
     "text": [
      "List trước khi thêm:  [1, 2, 3, 4, 5]\n",
      "List sau khi thêm:  [1, 2, 3, 4, 5, 6]\n",
      "List sau khi thêm vào vị trí 3:  [1, 2, '2_add', 3, 4, 5]\n"
     ]
    }
   ],
   "source": [
    "#5. Thêm phần tử -> 1. Thêm vào cuối list -> list.append(val)\n",
    "#                   2. Thêm vào vị trí index + 1 -> list.insert(index,val)\n",
    "#                   3. Nối 2 list_1 -> list.extend(list_2) or dùng toán tử '+'\n",
    "list_1 = [1,2,3,4,5]\n",
    "print(\"List trước khi thêm: \", list_1)\n",
    "\n",
    "#Thêm phần tử cuối list\n",
    "\n",
    "list_1.append(6)\n",
    "print(\"List sau khi thêm: \", list_1)\n",
    "\n",
    "#Thêm vào vị trí index + 1\n",
    "list_1 = [1,2,3,4,5]\n",
    "list_1.insert(2,'2_add')  #vị trí 2 + 1 = 3\n",
    "print(\"List sau khi thêm vào vị trí 3: \", list_1)\n"
   ]
  },
  {
   "cell_type": "code",
   "execution_count": 52,
   "id": "9b313b64",
   "metadata": {},
   "outputs": [
    {
     "name": "stdout",
     "output_type": "stream",
     "text": [
      "[1, 2, 3, 4, 5, 'a', 'b', 'c', 'd']\n"
     ]
    }
   ],
   "source": [
    "# Dùng hàm extend()\n",
    "list_1 = [1,2,3,4,5]\n",
    "list_2 = ['a','b','c','d']\n",
    "\n",
    "list_1.extend(list_2)\n",
    "\n",
    "print(list_1)"
   ]
  },
  {
   "cell_type": "code",
   "execution_count": 53,
   "id": "8a15b983",
   "metadata": {},
   "outputs": [
    {
     "name": "stdout",
     "output_type": "stream",
     "text": [
      "[1, 2, 3, 4, 5, 'a', 'b', 'c', 'd']\n"
     ]
    }
   ],
   "source": [
    "#Dùng toán tử +\n",
    "list_1 = [1,2,3,4,5]\n",
    "list_2 = ['a','b','c','d']\n",
    "\n",
    "list_1 = list_1 + list_2\n",
    "\n",
    "print(list_1)"
   ]
  },
  {
   "cell_type": "code",
   "execution_count": 49,
   "id": "8af31431",
   "metadata": {},
   "outputs": [
    {
     "name": "stdout",
     "output_type": "stream",
     "text": [
      "List trước khi xóa:  [1, 2, 3, 4, 5]\n",
      "List sau khi xóa phần tử '4':  [1, 2, 3, 5]\n"
     ]
    }
   ],
   "source": [
    "# xóa phần tử -> 1. Xóa phần tử cụ thể nào đó trong list -> list.remove(val)\n",
    "#                2. Xóa phần tử ở vị trí index+1 -> list.pop(index)\n",
    "#                3. Dùng toán tử del   -> del list[index] xóa phần từ ở vị trí index+1\n",
    "\n",
    "list_1 = [1,2,3,4,5]\n",
    "print(\"List trước khi xóa: \", list_1)\n",
    "\n",
    "list_1.remove(4)\n",
    "print(\"List sau khi xóa phần tử '4': \", list_1)\n"
   ]
  },
  {
   "cell_type": "code",
   "execution_count": 50,
   "id": "e9231c54",
   "metadata": {},
   "outputs": [
    {
     "name": "stdout",
     "output_type": "stream",
     "text": [
      "List trước khi xóa:  [1, 2, 3, 4, 5]\n",
      "List sau khi xóa phần tử thứ 4:  [1, 2, 3, 4]\n"
     ]
    }
   ],
   "source": [
    "list_1 = [1,2,3,4,5]\n",
    "print(\"List trước khi xóa: \", list_1)\n",
    "\n",
    "list_1.pop(4)\n",
    "print(\"List sau khi xóa phần tử thứ 4: \", list_1)\n"
   ]
  },
  {
   "cell_type": "code",
   "execution_count": 55,
   "id": "b346b4ba",
   "metadata": {},
   "outputs": [
    {
     "name": "stdout",
     "output_type": "stream",
     "text": [
      "List trước khi xóa:  [1, 2, 3, 4, 5]\n",
      "List sau khi xóa phần tử thứ 5:  [1, 2, 3, 4]\n"
     ]
    }
   ],
   "source": [
    "list_1 = [1,2,3,4,5]\n",
    "print(\"List trước khi xóa: \", list_1)\n",
    "\n",
    "del list_1[4]  # xóa phần tử ổ vị trí 4 + 1 = 5\n",
    "print(\"List sau khi xóa phần tử thứ 5: \", list_1)"
   ]
  },
  {
   "cell_type": "code",
   "execution_count": 56,
   "id": "5bc9c00e",
   "metadata": {},
   "outputs": [
    {
     "name": "stdout",
     "output_type": "stream",
     "text": [
      "List trước khi xóa:  [1, 2, 3, 4, 5]\n",
      "List sau khi làm rỗng:  []\n"
     ]
    }
   ],
   "source": [
    "#6. Làm rỗng list  -> dùng phương thức list.clear()\n",
    "list_1 = [1,2,3,4,5]\n",
    "print(\"List trước khi xóa: \", list_1)\n",
    "\n",
    "list_1.clear()\n",
    "\n",
    "print(\"List sau khi làm rỗng: \", list_1)"
   ]
  },
  {
   "cell_type": "code",
   "execution_count": 57,
   "id": "69a64f04",
   "metadata": {},
   "outputs": [],
   "source": [
    "#7. Sắp xếp list -> Thuận: list.sort()\n",
    "#                   Ngược list.sort(reverse = True)"
   ]
  },
  {
   "cell_type": "code",
   "execution_count": 61,
   "id": "2c13c17d",
   "metadata": {},
   "outputs": [
    {
     "name": "stdout",
     "output_type": "stream",
     "text": [
      "List trước sắp xếp:  [2, 3, 1, 0, 4]\n",
      "List sau sắp xếp:  [0, 1, 2, 3, 4]\n"
     ]
    }
   ],
   "source": [
    "list_1 = [2, 3, 1, 0, 4]\n",
    "\n",
    "print(\"List trước sắp xếp: \", list_1)\n",
    "\n",
    "list_1.sort()\n",
    "\n",
    "print(\"List sau sắp xếp: \", list_1)"
   ]
  },
  {
   "cell_type": "code",
   "execution_count": 62,
   "id": "dcbd318a",
   "metadata": {},
   "outputs": [
    {
     "name": "stdout",
     "output_type": "stream",
     "text": [
      "List trước sắp xếp:  [2, 3, 1, 0, 4]\n",
      "List sau sắp xếp:  [4, 3, 2, 1, 0]\n"
     ]
    }
   ],
   "source": [
    "list_1 = [2, 3, 1, 0, 4]\n",
    "\n",
    "print(\"List trước sắp xếp: \", list_1)\n",
    "\n",
    "list_1.sort(reverse = True)\n",
    "\n",
    "print(\"List sau sắp xếp: \", list_1)"
   ]
  },
  {
   "cell_type": "code",
   "execution_count": 65,
   "id": "74c7873e",
   "metadata": {},
   "outputs": [
    {
     "name": "stdout",
     "output_type": "stream",
     "text": [
      "List coppy từ list_1:  [1, 2, 3, 4, 5]\n"
     ]
    }
   ],
   "source": [
    "# 8. Coppy list  -> list_copy = list.copy()\n",
    "\n",
    "list_1 = [1,2,3,4,5]\n",
    "\n",
    "list_copy = list_1.copy()\n",
    "\n",
    "print(\"List coppy từ list_1: \", list_copy)"
   ]
  },
  {
   "cell_type": "markdown",
   "id": "5381a3fa",
   "metadata": {},
   "source": [
    "# Kiểu dữ liệu tuple\n",
    "Tuples được sử dụng trong Python để lưu nhiều giá trị một một biến. Các phần tử trong tuple có thứ tự nhất định và không thể thay đổi, điều này có nghĩa là sau khi tuple được tạo, nó không thể thay đổi, thêm mới hoặc xóa phần tử. Các phần tử của tuple có thể có cùng giá trị (trùng nhau) và chúng được đánh chỉ số tương ứng, phần tử đầu tiên có chỉ số là 0. \n",
    "Các nội dung cần nắm:\n",
    "\n",
    "1. Cách khởi tạo tuple\n",
    "2. Truy xuất phần tử tuple\n",
    "3. Unpacking\n",
    "4. Phương thức với tuple: count() kiểm tra số lần xuất hiện của một giá trị nào đó\n",
    "                          tuple. index() tìm kiếm một giá trị nào đó trong tuple và trả về chỉ số của phần tử đó"
   ]
  },
  {
   "cell_type": "code",
   "execution_count": 67,
   "id": "39a735e8",
   "metadata": {},
   "outputs": [
    {
     "name": "stdout",
     "output_type": "stream",
     "text": [
      "<class 'tuple'>\n",
      "(1, 2, 3, 4, 5)\n"
     ]
    }
   ],
   "source": [
    "#1. Cách khởi tạo tuple\n",
    "\n",
    "tuple_1 = (1,2,3,4,5)\n",
    "\n",
    "print(type(tuple_1))\n",
    "\n",
    "print(tuple_1)"
   ]
  },
  {
   "cell_type": "code",
   "execution_count": 73,
   "id": "8e0e8316",
   "metadata": {},
   "outputs": [
    {
     "name": "stdout",
     "output_type": "stream",
     "text": [
      "<class 'int'>\n",
      "<class 'tuple'>\n"
     ]
    }
   ],
   "source": [
    "# Chú ý: Khi tạo tuple với chỉ một phần tử, cần phải sử dụng dấu phẩy sau phần tử, nếu không, biến khai báo không được coi là 1 tuple\n",
    "\n",
    "tuple_1 = (1)\n",
    "\n",
    "print(type(tuple_1))\n",
    "\n",
    "tuple_2 = (1,)\n",
    "print(type(tuple_2))"
   ]
  },
  {
   "cell_type": "code",
   "execution_count": 78,
   "id": "99ede665",
   "metadata": {},
   "outputs": [
    {
     "name": "stdout",
     "output_type": "stream",
     "text": [
      "<class 'tuple'>\n",
      "(1, 2, 3, 4, 5)\n"
     ]
    }
   ],
   "source": [
    "#Ngoài cách tạo tuple như trên, chúng ta có thể tạo tuple bằng cách sử dụng hàm khởi tạo (constructor) tuple như sau:\n",
    "\n",
    "tuple_1 = tuple((1,2,3,4,5))\n",
    "\n",
    "print(type(tuple_1))\n",
    "\n",
    "print(tuple_1)"
   ]
  },
  {
   "cell_type": "code",
   "execution_count": 79,
   "id": "0c4ed25e",
   "metadata": {},
   "outputs": [
    {
     "name": "stdout",
     "output_type": "stream",
     "text": [
      "Phần tử thứ 1 trong tuple 1:  1\n",
      "Phần tử thứ 1 trong tuple 1:  5\n",
      "Phần tử thứ 2 đến phần tử thứ 3 của tuple_1 =  (2, 3)\n",
      "Các phần tử từ phần tử thứ 3 đến cuối tuple_1 (3, 4, 5)\n"
     ]
    }
   ],
   "source": [
    "#2. Truy xuất các phần tử trong tuple: bắt đầu từ 0\n",
    "tuple_1 = (1,2,3,4,5)\n",
    "print('Phần tử thứ 1 trong tuple 1: ',tuple_1[0])\n",
    "\n",
    "\n",
    "# Dùng chỉ số âm để truy cập. -1 là chỉ số của phần tử cuối cùng\n",
    "print('Phần tử thứ 1 trong tuple 1: ', tuple_1[-1])\n",
    "\n",
    "# Dùng khoảng chỉ số để truy cập nhiều phần tử của list\n",
    "print(\"Phần tử thứ 2 đến phần tử thứ 3 của tuple_1 = \", tuple_1[1:3])\n",
    "\n",
    "print(\"Các phần tử từ phần tử thứ 3 đến cuối tuple_1\", tuple_1[2:])"
   ]
  },
  {
   "cell_type": "code",
   "execution_count": 82,
   "id": "a981eb1c",
   "metadata": {},
   "outputs": [
    {
     "ename": "TypeError",
     "evalue": "'tuple' object does not support item assignment",
     "output_type": "error",
     "traceback": [
      "\u001b[1;31m---------------------------------------------------------------------------\u001b[0m",
      "\u001b[1;31mTypeError\u001b[0m                                 Traceback (most recent call last)",
      "Cell \u001b[1;32mIn [82], line 5\u001b[0m\n\u001b[0;32m      1\u001b[0m \u001b[38;5;66;03m#Các phần tử của tuple là cố định không thể thay đổ. \u001b[39;00m\n\u001b[0;32m      2\u001b[0m \u001b[38;5;66;03m#Tuy nhiên nếu như muốn thay đổi có thể dùng cách chuyển kiểu dữ liệu qua lại giữa tuple và list\u001b[39;00m\n\u001b[0;32m      3\u001b[0m tuple_1 \u001b[38;5;241m=\u001b[39m (\u001b[38;5;241m1\u001b[39m,\u001b[38;5;241m2\u001b[39m,\u001b[38;5;241m3\u001b[39m,\u001b[38;5;241m4\u001b[39m,\u001b[38;5;241m5\u001b[39m)\n\u001b[1;32m----> 5\u001b[0m tuple_1[\u001b[38;5;241m1\u001b[39m] \u001b[38;5;241m=\u001b[39m \u001b[38;5;241m9\u001b[39m\n",
      "\u001b[1;31mTypeError\u001b[0m: 'tuple' object does not support item assignment"
     ]
    }
   ],
   "source": [
    "#Các phần tử của tuple là cố định không thể thay đổ. \n",
    "#Tuy nhiên nếu như muốn thay đổi có thể dùng cách chuyển kiểu dữ liệu qua lại giữa tuple và list\n",
    "tuple_1 = (1,2,3,4,5)\n",
    "\n",
    "tuple_1[1] = 9"
   ]
  },
  {
   "cell_type": "code",
   "execution_count": 85,
   "id": "c1156691",
   "metadata": {},
   "outputs": [
    {
     "name": "stdout",
     "output_type": "stream",
     "text": [
      "[1, 2, 3, 4, 5]\n",
      "[1, 9, 3, 4, 5]\n",
      "(1, 9, 3, 4, 5)\n"
     ]
    }
   ],
   "source": [
    "tuple_1 = (1,2,3,4,5)\n",
    "\n",
    "list_convert_from_tuple = list(tuple_1)\n",
    "\n",
    "print(list_convert_from_tuple)\n",
    "\n",
    "list_convert_from_tuple[1] = 9\n",
    "\n",
    "print(list_convert_from_tuple)\n",
    "\n",
    "tuple_1 = tuple(list_convert_from_tuple)\n",
    "print(tuple_1)\n"
   ]
  },
  {
   "cell_type": "code",
   "execution_count": 89,
   "id": "076b7aff",
   "metadata": {},
   "outputs": [
    {
     "name": "stdout",
     "output_type": "stream",
     "text": [
      "1\n",
      "2\n",
      "3\n"
     ]
    }
   ],
   "source": [
    "#3. Unpacking:\n",
    "''''Khi tuple được  tạo, chúng ta gói các giá trị (phần tử) vào trong 1 biến kiểu tuple (quá trình này gọi là packing). \n",
    "Ở chiều ngược lại, khi ta lấy các giá trị của tuple lưu vào các biến được gọi là unpacking.'''\n",
    "\n",
    "tuple_1 = (1,2,3)\n",
    "\n",
    "(a, b, c) = tuple_1\n",
    "\n",
    "print(a)\n",
    "print(b)\n",
    "print(c)"
   ]
  },
  {
   "cell_type": "code",
   "execution_count": 96,
   "id": "0bd3d3b0",
   "metadata": {},
   "outputs": [
    {
     "name": "stdout",
     "output_type": "stream",
     "text": [
      "(1, 2, 1, 1, 6, 3, 2)\n",
      "3\n",
      "1\n"
     ]
    }
   ],
   "source": [
    "'''Phương thức với tuple: count() kiểm tra số lần xuất hiện của một giá trị nào đó\n",
    "                          tuple. index() tìm kiếm một giá trị nào đó trong tuple và trả về chỉ số của phần tử đó'''\n",
    "tuple_1 = (1,2,1,1,6,3,2)\n",
    "\n",
    "print(tuple_1)\n",
    "\n",
    "p = tuple_1.count(1)\n",
    "l = tuple_1.count(3)\n",
    "\n",
    "print(p)\n",
    "print(l)"
   ]
  },
  {
   "cell_type": "code",
   "execution_count": 102,
   "id": "42c1ca95",
   "metadata": {},
   "outputs": [
    {
     "ename": "ValueError",
     "evalue": "tuple.index(x): x not in tuple",
     "output_type": "error",
     "traceback": [
      "\u001b[1;31m---------------------------------------------------------------------------\u001b[0m",
      "\u001b[1;31mValueError\u001b[0m                                Traceback (most recent call last)",
      "Cell \u001b[1;32mIn [102], line 3\u001b[0m\n\u001b[0;32m      1\u001b[0m tuple_1 \u001b[38;5;241m=\u001b[39m (\u001b[38;5;241m1\u001b[39m,\u001b[38;5;241m2\u001b[39m,\u001b[38;5;241m1\u001b[39m,\u001b[38;5;241m1\u001b[39m,\u001b[38;5;241m6\u001b[39m,\u001b[38;5;241m3\u001b[39m,\u001b[38;5;241m2\u001b[39m)\n\u001b[1;32m----> 3\u001b[0m index_6 \u001b[38;5;241m=\u001b[39m tuple_1\u001b[38;5;241m.\u001b[39mindex(\u001b[38;5;241m5\u001b[39m)\n",
      "\u001b[1;31mValueError\u001b[0m: tuple.index(x): x not in tuple"
     ]
    }
   ],
   "source": [
    "tuple_1 = (1,2,1,1,6,3,2)\n",
    "\n",
    "index_6 = tuple_1.index(5)"
   ]
  },
  {
   "cell_type": "code",
   "execution_count": 101,
   "id": "f6a0201a",
   "metadata": {},
   "outputs": [
    {
     "name": "stdout",
     "output_type": "stream",
     "text": [
      "4\n"
     ]
    }
   ],
   "source": [
    "print(index_2)"
   ]
  },
  {
   "cell_type": "code",
   "execution_count": null,
   "id": "44dcf53b",
   "metadata": {},
   "outputs": [],
   "source": []
  }
 ],
 "metadata": {
  "kernelspec": {
   "display_name": "Python 3 (ipykernel)",
   "language": "python",
   "name": "python3"
  },
  "language_info": {
   "codemirror_mode": {
    "name": "ipython",
    "version": 3
   },
   "file_extension": ".py",
   "mimetype": "text/x-python",
   "name": "python",
   "nbconvert_exporter": "python",
   "pygments_lexer": "ipython3",
   "version": "3.10.7"
  }
 },
 "nbformat": 4,
 "nbformat_minor": 5
}
