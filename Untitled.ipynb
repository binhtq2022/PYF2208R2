{
 "cells": [
  {
   "cell_type": "code",
   "execution_count": 2,
   "id": "6ced102e",
   "metadata": {},
   "outputs": [
    {
     "name": "stdout",
     "output_type": "stream",
     "text": [
      "Hay nhap 1 so do bat ky don vi la met: 1.72\n",
      "So do ban da nhap o don vi cen-ti-met là 172.0\n"
     ]
    }
   ],
   "source": [
    "\n",
    "In = float(input(\"Hay nhap 1 so do bat ky don vi la met: \"))\n",
    "\n",
    "Out = In*100\n",
    "\n",
    "print(f\"So do ban da nhap o don vi cen-ti-met là {Out}\")\n",
    "\n",
    "\n"
   ]
  },
  {
   "cell_type": "code",
   "execution_count": null,
   "id": "278fe6d2",
   "metadata": {},
   "outputs": [],
   "source": []
  }
 ],
 "metadata": {
  "kernelspec": {
   "display_name": "Python 3 (ipykernel)",
   "language": "python",
   "name": "python3"
  },
  "language_info": {
   "codemirror_mode": {
    "name": "ipython",
    "version": 3
   },
   "file_extension": ".py",
   "mimetype": "text/x-python",
   "name": "python",
   "nbconvert_exporter": "python",
   "pygments_lexer": "ipython3",
   "version": "3.10.6"
  }
 },
 "nbformat": 4,
 "nbformat_minor": 5
}
