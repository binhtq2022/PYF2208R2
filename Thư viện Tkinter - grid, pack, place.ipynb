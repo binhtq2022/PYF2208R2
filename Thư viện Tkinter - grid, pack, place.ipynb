{
 "cells": [
  {
   "cell_type": "markdown",
   "id": "4c559a90",
   "metadata": {},
   "source": [
    "## pack\n",
    "\n",
    "Lệnh `pack()` sẽ giúp sắp xếp các đối tượng theo thứ tự nhất định"
   ]
  },
  {
   "cell_type": "code",
   "execution_count": 23,
   "id": "d6af98e3",
   "metadata": {},
   "outputs": [],
   "source": [
    "from tkinter import *\n",
    "window = Tk()\n",
    "window.title(\"Registration\")\n",
    "\n",
    "registration_lbl = Label(window, text = \"Registration form\")\n",
    "fullname_lbl = Label(window, text = \"Full name\")\n",
    "address_lbl = Label(window, text = \"Address\")\n",
    "email_lbl = Label(window, text = \"Email\")\n",
    "\n",
    "FullName = Entry(window)\n",
    "address = Entry(window)\n",
    "email = Entry(window)\n",
    "\n",
    "register_btn = Button(window, text = \"Register\")\n",
    "\n",
    "registration_lbl.pack()\n",
    "fullname_lbl.pack()\n",
    "FullName.pack()\n",
    "address_lbl.pack()\n",
    "address.pack()\n",
    "email_lbl.pack()\n",
    "email.pack()\n",
    "register_btn.pack()\n",
    "\n",
    "window.mainloop()"
   ]
  },
  {
   "cell_type": "markdown",
   "id": "0093b00d",
   "metadata": {},
   "source": [
    "# grid\n",
    "Lệnh `grid()` sẽ giúp sắp xếp các đối tượng theo một bảng"
   ]
  },
  {
   "cell_type": "code",
   "execution_count": 19,
   "id": "d89cd306",
   "metadata": {},
   "outputs": [],
   "source": [
    "from tkinter import *\n",
    "window = Tk()\n",
    "window.title(\"Registration\")\n",
    "\n",
    "registration_lbl = Label(window, text = \"Registration form\")\n",
    "fullname_lbl = Label(window, text = \"Full name\")\n",
    "address_lbl = Label(window, text = \"Address\")\n",
    "email_lbl = Label(window, text = \"Email\")\n",
    "\n",
    "FullName = Entry(window)\n",
    "address = Entry(window)\n",
    "email = Entry(window)\n",
    "\n",
    "register_btn = Button(window, text = \"Register\")\n",
    "\n",
    "registration_lbl.grid(row = 0, column = 0, columnspan = 2)\n",
    "fullname_lbl.grid(row = 1, column = 0)\n",
    "address_lbl.grid(row = 2, column = 0)\n",
    "email_lbl.grid(row = 3, column = 0)\n",
    "FullName.grid(row = 1, column = 1)\n",
    "address.grid(row = 2, column = 1)\n",
    "email.grid(row = 3, column = 1)\n",
    "register_btn.grid(row = 4, column = 0)\n",
    "\n",
    "window.mainloop()\n"
   ]
  },
  {
   "cell_type": "markdown",
   "id": "f0a05577",
   "metadata": {},
   "source": [
    "place\n",
    "\n",
    "Lệnh `place()` sắp xếp các widget bằng cách đặt chúng vào một vị trí cụ thể trong widget chính."
   ]
  },
  {
   "cell_type": "code",
   "execution_count": 58,
   "id": "070e6374",
   "metadata": {},
   "outputs": [
    {
     "name": "stdout",
     "output_type": "stream",
     "text": [
      "User Info!!!\n",
      "Full name: Binh\n",
      "Address: BD\n",
      "Email: Tranbinh@\n",
      "==============================\n"
     ]
    }
   ],
   "source": [
    "from tkinter import *\n",
    "from tkinter import messagebox\n",
    "\n",
    "\n",
    "\n",
    "window = Tk()\n",
    "window.title(\"Registration\")\n",
    "\n",
    "registration_lbl = Label(window, text = \"Registration Form\")\n",
    "fullname_lbl = Label(window, text = \"Full name\")\n",
    "address_lbl = Label(window, text = \"Address\")\n",
    "email_lbl = Label(window, text = \"Email\")\n",
    "\n",
    "FullName = Entry(window)\n",
    "address = Entry(window)\n",
    "email = Entry(window)\n",
    "\n",
    "\n",
    "def get_info():\n",
    "    print(\"User Info!!!\")\n",
    "    print(f\"Full name: {FullName.get()}\")\n",
    "    print(f\"Address: {address.get()}\")\n",
    "    print(f\"Email: {email.get()}\")\n",
    "    print(\"=\"*30)\n",
    "    messagebox.showinfo(\"User Info!!!\",f\"Full name: {FullName.get()}\\n Address: {address.get()} \\n Email: {email.get()} \" )\n",
    "\n",
    "\n",
    "\n",
    "register_btn = Button(window, text = \"Register\", command = get_info)\n",
    "\n",
    "registration_lbl.place(x = 50, y = 1)\n",
    "fullname_lbl.place(x = 10, y = 25)\n",
    "FullName.place(x = 70, y = 27)\n",
    "address_lbl.place(x = 10, y =54)\n",
    "address.place(x = 70, y = 54)\n",
    "email_lbl.place(x = 10, y = 81)\n",
    "email.place(x = 70, y = 81)\n",
    "register_btn.place(x = 80, y = 108)\n",
    "\n",
    "\n",
    "\n",
    "window.mainloop()\n"
   ]
  },
  {
   "cell_type": "markdown",
   "id": "5d4800ba",
   "metadata": {},
   "source": []
  }
 ],
 "metadata": {
  "kernelspec": {
   "display_name": "Python 3 (ipykernel)",
   "language": "python",
   "name": "python3"
  },
  "language_info": {
   "codemirror_mode": {
    "name": "ipython",
    "version": 3
   },
   "file_extension": ".py",
   "mimetype": "text/x-python",
   "name": "python",
   "nbconvert_exporter": "python",
   "pygments_lexer": "ipython3",
   "version": "3.10.7"
  }
 },
 "nbformat": 4,
 "nbformat_minor": 5
}
